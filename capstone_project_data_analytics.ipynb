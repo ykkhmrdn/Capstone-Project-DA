{
 "cells": [
  {
   "cell_type": "markdown",
   "metadata": {},
   "source": [
    "# Capstone Project: Data Analytics for Shopping Cart Database"
   ]
  },
  {
   "cell_type": "markdown",
   "metadata": {},
   "source": [
    "## A) Business Background"
   ]
  },
  {
   "cell_type": "markdown",
   "metadata": {},
   "source": [
    "### Business Objective\n",
    "Based on shopping cart historical data, we aim to increase sales and revenue by providing insights and recommendations for product management, sales team, and marketing staff."
   ]
  },
  {
   "cell_type": "markdown",
   "metadata": {},
   "source": [
    "### Business Question\n",
    "How can we use shopping cart historical data to increase sales and revenue by providing insights and recommendations for product management, sales team, and marketing staff?"
   ]
  },
  {
   "cell_type": "markdown",
   "metadata": {},
   "source": [
    "### Hypothesis\n",
    "If we succeed in identifying and understanding the key drivers that influence sales and revenue performance across various product categories over 10 months from Jan - Oct 2021, then we will be able to increase sales significantly."
   ]
  },
  {
   "cell_type": "markdown",
   "metadata": {},
   "source": [
    "## B) Data Preparation"
   ]
  },
  {
   "cell_type": "markdown",
   "metadata": {},
   "source": [
    "### Data Collection\n",
    "We will collect historical shopping cart data from Jan - Oct 2021. This data includes customer ID, product ID, order quantity, order date, delivery date, total sales, price per product, and customer age."
   ]
  },
  {
   "cell_type": "markdown",
   "metadata": {},
   "source": [
    "#### **Dataset:**\n",
    "\n",
    "* https://docs.google.com/spreadsheets/d/1Q16Wmij2wxoziNtpc3ubbf1Ms3fjOGy5jNMVU5UHbCo/edit#gid=403512802\n",
    "\n",
    "\n",
    "#### **Data Dictionary:**\n",
    "\n",
    "* https://docs.google.com/spreadsheets/d/1Q16Wmij2wxoziNtpc3ubbf1Ms3fjOGy5jNMVU5UHbCo/edit#gid=510760296"
   ]
  },
  {
   "cell_type": "markdown",
   "metadata": {},
   "source": [
    "### Libraries Used"
   ]
  },
  {
   "cell_type": "markdown",
   "metadata": {},
   "source": [
    "#### **NumPy (import numpy as np)**\n",
    "NumPy is a very useful library for array manipulation and mathematical operations on arrays. NumPy provides an efficient array data structure and functions for working with numerical data.\n",
    "\n",
    "#### **Pandas (import pandas as pd)**\n",
    "Pandas is a library used for data manipulation and analysis. Pandas provides data structures such as DataFrame, which make it easy to process and analyze tabular data.\n",
    "\n",
    "#### **Matplotlib (import matplotlib.pyplot as plt)**\n",
    "Matplotlib is a library for creating 2D graphics visualizations. With Matplotlib, you can create various types of plots such as line plots, bar plots, scatter plots, and so on.\n",
    "\n",
    "#### **Seaborn (import seaborn as sns)**\n",
    "Seaborn is a library built on top of Matplotlib and provides a high-level interface for creating statistical plots. Seaborn makes it easier to create plots with nice styles and provides additional functions for adding statistical elements to plots."
   ]
  },
  {
   "cell_type": "markdown",
   "metadata": {},
   "source": [
    "### Import Library"
   ]
  },
  {
   "cell_type": "code",
   "execution_count": 14,
   "metadata": {},
   "outputs": [],
   "source": [
    "# Import necessary libraries\n",
    "import numpy as np # linear arrays operations\n",
    "import pandas as pd # data processing, CSV file I/O (e.g. pd.read_csv)\n",
    "import matplotlib.pyplot as plt # data visualization\n",
    "import seaborn as sns # data visualization"
   ]
  },
  {
   "cell_type": "markdown",
   "metadata": {},
   "source": [
    "### Import Dataset"
   ]
  },
  {
   "cell_type": "code",
   "execution_count": 31,
   "metadata": {},
   "outputs": [
    {
     "name": "stdout",
     "output_type": "stream",
     "text": [
      "https://docs.google.com/spreadsheets/d/1Q16Wmij2wxoziNtpc3ubbf1Ms3fjOGy5jNMVU5UHbCo/export?format=csv&gid=403512802\n"
     ]
    },
    {
     "data": {
      "text/html": [
       "<div>\n",
       "<style scoped>\n",
       "    .dataframe tbody tr th:only-of-type {\n",
       "        vertical-align: middle;\n",
       "    }\n",
       "\n",
       "    .dataframe tbody tr th {\n",
       "        vertical-align: top;\n",
       "    }\n",
       "\n",
       "    .dataframe thead th {\n",
       "        text-align: right;\n",
       "    }\n",
       "</style>\n",
       "<table border=\"1\" class=\"dataframe\">\n",
       "  <thead>\n",
       "    <tr style=\"text-align: right;\">\n",
       "      <th></th>\n",
       "      <th>sales_id</th>\n",
       "      <th>order_id</th>\n",
       "      <th>product_id</th>\n",
       "      <th>price_per_unit</th>\n",
       "      <th>quantity_sales</th>\n",
       "      <th>total_price</th>\n",
       "      <th>customer_id</th>\n",
       "      <th>payment</th>\n",
       "      <th>order_date</th>\n",
       "      <th>delivery_date</th>\n",
       "      <th>...</th>\n",
       "      <th>home_address</th>\n",
       "      <th>city</th>\n",
       "      <th>state</th>\n",
       "      <th>product_type</th>\n",
       "      <th>product_name</th>\n",
       "      <th>size</th>\n",
       "      <th>colour</th>\n",
       "      <th>price</th>\n",
       "      <th>quantity_products</th>\n",
       "      <th>description</th>\n",
       "    </tr>\n",
       "  </thead>\n",
       "  <tbody>\n",
       "    <tr>\n",
       "      <th>0</th>\n",
       "      <td>0</td>\n",
       "      <td>1</td>\n",
       "      <td>218</td>\n",
       "      <td>$106,00</td>\n",
       "      <td>2</td>\n",
       "      <td>$212,00</td>\n",
       "      <td>64</td>\n",
       "      <td>$30.811,00</td>\n",
       "      <td>8/30/2021</td>\n",
       "      <td>9/24/2021</td>\n",
       "      <td>...</td>\n",
       "      <td>4927 Alice MeadowApt. 960</td>\n",
       "      <td>Sanfordborough</td>\n",
       "      <td>South Australia</td>\n",
       "      <td>Shirt</td>\n",
       "      <td>Chambray</td>\n",
       "      <td>L</td>\n",
       "      <td>orange</td>\n",
       "      <td>$105,00</td>\n",
       "      <td>44</td>\n",
       "      <td>A orange coloured, L sized, Chambray Shirt</td>\n",
       "    </tr>\n",
       "    <tr>\n",
       "      <th>1</th>\n",
       "      <td>1</td>\n",
       "      <td>1</td>\n",
       "      <td>481</td>\n",
       "      <td>$118,00</td>\n",
       "      <td>1</td>\n",
       "      <td>$118,00</td>\n",
       "      <td>64</td>\n",
       "      <td>$30.811,00</td>\n",
       "      <td>8/30/2021</td>\n",
       "      <td>9/24/2021</td>\n",
       "      <td>...</td>\n",
       "      <td>4927 Alice MeadowApt. 960</td>\n",
       "      <td>Sanfordborough</td>\n",
       "      <td>South Australia</td>\n",
       "      <td>Jacket</td>\n",
       "      <td>Puffer</td>\n",
       "      <td>S</td>\n",
       "      <td>indigo</td>\n",
       "      <td>$110,00</td>\n",
       "      <td>62</td>\n",
       "      <td>A indigo coloured, S sized, Puffer Jacket</td>\n",
       "    </tr>\n",
       "    <tr>\n",
       "      <th>2</th>\n",
       "      <td>2</td>\n",
       "      <td>1</td>\n",
       "      <td>2</td>\n",
       "      <td>$96,00</td>\n",
       "      <td>3</td>\n",
       "      <td>$288,00</td>\n",
       "      <td>64</td>\n",
       "      <td>$30.811,00</td>\n",
       "      <td>8/30/2021</td>\n",
       "      <td>9/24/2021</td>\n",
       "      <td>...</td>\n",
       "      <td>4927 Alice MeadowApt. 960</td>\n",
       "      <td>Sanfordborough</td>\n",
       "      <td>South Australia</td>\n",
       "      <td>Shirt</td>\n",
       "      <td>Oxford Cloth</td>\n",
       "      <td>M</td>\n",
       "      <td>red</td>\n",
       "      <td>$114,00</td>\n",
       "      <td>54</td>\n",
       "      <td>A red coloured, M sized, Oxford Cloth Shirt</td>\n",
       "    </tr>\n",
       "    <tr>\n",
       "      <th>3</th>\n",
       "      <td>3</td>\n",
       "      <td>1</td>\n",
       "      <td>1002</td>\n",
       "      <td>$106,00</td>\n",
       "      <td>2</td>\n",
       "      <td>$212,00</td>\n",
       "      <td>64</td>\n",
       "      <td>$30.811,00</td>\n",
       "      <td>8/30/2021</td>\n",
       "      <td>9/24/2021</td>\n",
       "      <td>...</td>\n",
       "      <td>4927 Alice MeadowApt. 960</td>\n",
       "      <td>Sanfordborough</td>\n",
       "      <td>South Australia</td>\n",
       "      <td>Trousers</td>\n",
       "      <td>Wool</td>\n",
       "      <td>M</td>\n",
       "      <td>blue</td>\n",
       "      <td>$111,00</td>\n",
       "      <td>52</td>\n",
       "      <td>A blue coloured, M sized, Wool Trousers</td>\n",
       "    </tr>\n",
       "    <tr>\n",
       "      <th>4</th>\n",
       "      <td>4</td>\n",
       "      <td>1</td>\n",
       "      <td>691</td>\n",
       "      <td>$113,00</td>\n",
       "      <td>3</td>\n",
       "      <td>$339,00</td>\n",
       "      <td>64</td>\n",
       "      <td>$30.811,00</td>\n",
       "      <td>8/30/2021</td>\n",
       "      <td>9/24/2021</td>\n",
       "      <td>...</td>\n",
       "      <td>4927 Alice MeadowApt. 960</td>\n",
       "      <td>Sanfordborough</td>\n",
       "      <td>South Australia</td>\n",
       "      <td>Jacket</td>\n",
       "      <td>Parka</td>\n",
       "      <td>S</td>\n",
       "      <td>indigo</td>\n",
       "      <td>$119,00</td>\n",
       "      <td>53</td>\n",
       "      <td>A indigo coloured, S sized, Parka Jacket</td>\n",
       "    </tr>\n",
       "  </tbody>\n",
       "</table>\n",
       "<p>5 rows × 23 columns</p>\n",
       "</div>"
      ],
      "text/plain": [
       "   sales_id  order_id  product_id price_per_unit  quantity_sales total_price  \\\n",
       "0         0         1         218        $106,00               2     $212,00   \n",
       "1         1         1         481        $118,00               1     $118,00   \n",
       "2         2         1           2         $96,00               3     $288,00   \n",
       "3         3         1        1002        $106,00               2     $212,00   \n",
       "4         4         1         691        $113,00               3     $339,00   \n",
       "\n",
       "   customer_id     payment order_date delivery_date  ...  \\\n",
       "0           64  $30.811,00  8/30/2021     9/24/2021  ...   \n",
       "1           64  $30.811,00  8/30/2021     9/24/2021  ...   \n",
       "2           64  $30.811,00  8/30/2021     9/24/2021  ...   \n",
       "3           64  $30.811,00  8/30/2021     9/24/2021  ...   \n",
       "4           64  $30.811,00  8/30/2021     9/24/2021  ...   \n",
       "\n",
       "                home_address            city            state product_type  \\\n",
       "0  4927 Alice MeadowApt. 960  Sanfordborough  South Australia        Shirt   \n",
       "1  4927 Alice MeadowApt. 960  Sanfordborough  South Australia       Jacket   \n",
       "2  4927 Alice MeadowApt. 960  Sanfordborough  South Australia        Shirt   \n",
       "3  4927 Alice MeadowApt. 960  Sanfordborough  South Australia     Trousers   \n",
       "4  4927 Alice MeadowApt. 960  Sanfordborough  South Australia       Jacket   \n",
       "\n",
       "   product_name size  colour    price quantity_products  \\\n",
       "0      Chambray    L  orange  $105,00                44   \n",
       "1        Puffer    S  indigo  $110,00                62   \n",
       "2  Oxford Cloth    M     red  $114,00                54   \n",
       "3          Wool    M    blue  $111,00                52   \n",
       "4         Parka    S  indigo  $119,00                53   \n",
       "\n",
       "                                   description  \n",
       "0   A orange coloured, L sized, Chambray Shirt  \n",
       "1    A indigo coloured, S sized, Puffer Jacket  \n",
       "2  A red coloured, M sized, Oxford Cloth Shirt  \n",
       "3      A blue coloured, M sized, Wool Trousers  \n",
       "4     A indigo coloured, S sized, Parka Jacket  \n",
       "\n",
       "[5 rows x 23 columns]"
      ]
     },
     "execution_count": 31,
     "metadata": {},
     "output_type": "execute_result"
    }
   ],
   "source": [
    "#Import dataset form spreadsheet\n",
    "sheet_url = 'https://docs.google.com/spreadsheets/d/1Q16Wmij2wxoziNtpc3ubbf1Ms3fjOGy5jNMVU5UHbCo/edit#gid=403512802'\n",
    "sheet_url_replace = sheet_url.replace('/edit#gid=', '/export?format=csv&gid=') #to convert the spreadsheet format into csv\n",
    "\n",
    "print(sheet_url_replace) #To show the link to csv\n",
    "\n",
    "df = pd.read_csv(sheet_url_replace) #to load/read the csv into pandas dataframe\n",
    "df.head(5) #Show only first 5 rows (To see how the dataset lookslike without)"
   ]
  },
  {
   "cell_type": "markdown",
   "metadata": {},
   "source": [
    "## C) Data Cleaning"
   ]
  },
  {
   "cell_type": "markdown",
   "metadata": {},
   "source": [
    "The data cleaning process has been meticulously carried out by our data cleaning team using spreadsheet tools, adhering to the appropriate guidelines. This process included removing or imputing missing values, eliminating duplicates, and ensuring that the data is in the correct format."
   ]
  },
  {
   "cell_type": "markdown",
   "metadata": {},
   "source": [
    "## D) Exploratory Data Analysis (EDA)"
   ]
  }
 ],
 "metadata": {
  "kernelspec": {
   "display_name": "myenv",
   "language": "python",
   "name": "python3"
  },
  "language_info": {
   "codemirror_mode": {
    "name": "ipython",
    "version": 3
   },
   "file_extension": ".py",
   "mimetype": "text/x-python",
   "name": "python",
   "nbconvert_exporter": "python",
   "pygments_lexer": "ipython3",
   "version": "3.11.4"
  }
 },
 "nbformat": 4,
 "nbformat_minor": 2
}
